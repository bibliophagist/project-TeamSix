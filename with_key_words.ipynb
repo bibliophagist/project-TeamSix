{
 "cells": [
  {
   "cell_type": "code",
   "execution_count": 1,
   "metadata": {},
   "outputs": [],
   "source": [
    "import re\n",
    "import sys\n",
    "import json\n",
    "import gzip\n",
    "import logging\n",
    "import pickle as pkl\n",
    "from functools import lru_cache\n",
    "from multiprocessing import Pool\n",
    "import nltk\n",
    "from nltk.corpus import stopwords\n",
    "from nltk.stem.porter import PorterStemmer\n",
    "import itertools\n",
    "from annoy import AnnoyIndex\n",
    "\n",
    "import pymorphy2\n",
    "import numpy as np\n",
    "import pandas as pd\n",
    "from annoy import AnnoyIndex\n",
    "from gensim.models.word2vec import Word2Vec\n",
    "from nltk.tokenize import word_tokenize\n",
    "from application.machine.Seeker import Seeker\n",
    "\n",
    "MORPH = pymorphy2.MorphAnalyzer()\n",
    "porter = PorterStemmer()"
   ]
  },
  {
   "cell_type": "code",
   "execution_count": 2,
   "metadata": {},
   "outputs": [],
   "source": [
    "data = pd.read_csv('scopus.csv')"
   ]
  },
  {
   "cell_type": "code",
   "execution_count": null,
   "metadata": {},
   "outputs": [],
   "source": []
  },
  {
   "cell_type": "code",
   "execution_count": null,
   "metadata": {},
   "outputs": [],
   "source": []
  },
  {
   "cell_type": "code",
   "execution_count": 3,
   "metadata": {},
   "outputs": [
    {
     "data": {
      "text/html": [
       "<div>\n",
       "<style scoped>\n",
       "    .dataframe tbody tr th:only-of-type {\n",
       "        vertical-align: middle;\n",
       "    }\n",
       "\n",
       "    .dataframe tbody tr th {\n",
       "        vertical-align: top;\n",
       "    }\n",
       "\n",
       "    .dataframe thead th {\n",
       "        text-align: right;\n",
       "    }\n",
       "</style>\n",
       "<table border=\"1\" class=\"dataframe\">\n",
       "  <thead>\n",
       "    <tr style=\"text-align: right;\">\n",
       "      <th></th>\n",
       "      <th>Авторы</th>\n",
       "      <th>Идентификатор автора(ов)</th>\n",
       "      <th>Название</th>\n",
       "      <th>Год</th>\n",
       "      <th>Название источника</th>\n",
       "      <th>Том</th>\n",
       "      <th>Выпуск</th>\n",
       "      <th>Статья №</th>\n",
       "      <th>Страница начала</th>\n",
       "      <th>Страница окончания</th>\n",
       "      <th>...</th>\n",
       "      <th>Цитирования</th>\n",
       "      <th>DOI</th>\n",
       "      <th>Ссылка</th>\n",
       "      <th>Краткое описание</th>\n",
       "      <th>Ключевые слова автора</th>\n",
       "      <th>Тип документа</th>\n",
       "      <th>Стадия публикации</th>\n",
       "      <th>Тип доступа</th>\n",
       "      <th>Источник</th>\n",
       "      <th>EID</th>\n",
       "    </tr>\n",
       "  </thead>\n",
       "  <tbody>\n",
       "    <tr>\n",
       "      <th>0</th>\n",
       "      <td>Chow A.H.F., Li S.</td>\n",
       "      <td>36146863600;56719990800;</td>\n",
       "      <td>Modelling and managing bus service regularity ...</td>\n",
       "      <td>2019</td>\n",
       "      <td>Transportmetrica B</td>\n",
       "      <td>7</td>\n",
       "      <td>1</td>\n",
       "      <td>NaN</td>\n",
       "      <td>82.0</td>\n",
       "      <td>106.0</td>\n",
       "      <td>...</td>\n",
       "      <td>1.0</td>\n",
       "      <td>10.1080/21680566.2017.1353450</td>\n",
       "      <td>https://www.scopus.com/inward/record.uri?eid=2...</td>\n",
       "      <td>This paper presents a multi-modal framework fo...</td>\n",
       "      <td>Bus bunching; multi-modal management; transit ...</td>\n",
       "      <td>Article</td>\n",
       "      <td>Final</td>\n",
       "      <td>NaN</td>\n",
       "      <td>Scopus</td>\n",
       "      <td>2-s2.0-85024501234</td>\n",
       "    </tr>\n",
       "    <tr>\n",
       "      <th>1</th>\n",
       "      <td>Ortigosa J., Gayah V.V., Menendez M.</td>\n",
       "      <td>55863721200;16244850200;7102690501;</td>\n",
       "      <td>Analysis of one-way and two-way street configu...</td>\n",
       "      <td>2019</td>\n",
       "      <td>Transportmetrica B</td>\n",
       "      <td>7</td>\n",
       "      <td>1</td>\n",
       "      <td>NaN</td>\n",
       "      <td>61.0</td>\n",
       "      <td>81.0</td>\n",
       "      <td>...</td>\n",
       "      <td>NaN</td>\n",
       "      <td>10.1080/21680566.2017.1337528</td>\n",
       "      <td>https://www.scopus.com/inward/record.uri?eid=2...</td>\n",
       "      <td>In this paper, we study traffic behavior on th...</td>\n",
       "      <td>DTA; grid networks; left turns; one-way street...</td>\n",
       "      <td>Article</td>\n",
       "      <td>Final</td>\n",
       "      <td>NaN</td>\n",
       "      <td>Scopus</td>\n",
       "      <td>2-s2.0-85021050453</td>\n",
       "    </tr>\n",
       "    <tr>\n",
       "      <th>2</th>\n",
       "      <td>Sau J., Monteil J., Bouroche M.</td>\n",
       "      <td>55490778800;56085947000;15134891000;</td>\n",
       "      <td>State-space linear stability analysis of plato...</td>\n",
       "      <td>2019</td>\n",
       "      <td>Transportmetrica B</td>\n",
       "      <td>7</td>\n",
       "      <td>1</td>\n",
       "      <td>NaN</td>\n",
       "      <td>18.0</td>\n",
       "      <td>43.0</td>\n",
       "      <td>...</td>\n",
       "      <td>NaN</td>\n",
       "      <td>10.1080/21680566.2017.1308846</td>\n",
       "      <td>https://www.scopus.com/inward/record.uri?eid=2...</td>\n",
       "      <td>Platoons of vehicles relying on inter-vehicle ...</td>\n",
       "      <td>car-following models; cooperative systems; lin...</td>\n",
       "      <td>Article</td>\n",
       "      <td>Final</td>\n",
       "      <td>NaN</td>\n",
       "      <td>Scopus</td>\n",
       "      <td>2-s2.0-85017096656</td>\n",
       "    </tr>\n",
       "    <tr>\n",
       "      <th>3</th>\n",
       "      <td>Wandelt S., Sun X., Zhang J.</td>\n",
       "      <td>23468068100;55806545400;57188731724;</td>\n",
       "      <td>Evolution of domestic airport networks: a revi...</td>\n",
       "      <td>2019</td>\n",
       "      <td>Transportmetrica B</td>\n",
       "      <td>7</td>\n",
       "      <td>1</td>\n",
       "      <td>NaN</td>\n",
       "      <td>1.0</td>\n",
       "      <td>17.0</td>\n",
       "      <td>...</td>\n",
       "      <td>2.0</td>\n",
       "      <td>10.1080/21680566.2017.1301274</td>\n",
       "      <td>https://www.scopus.com/inward/record.uri?eid=2...</td>\n",
       "      <td>Previous studies on airport networks are stron...</td>\n",
       "      <td>complex network; domestic airport network; Net...</td>\n",
       "      <td>Article</td>\n",
       "      <td>Final</td>\n",
       "      <td>NaN</td>\n",
       "      <td>Scopus</td>\n",
       "      <td>2-s2.0-85015645443</td>\n",
       "    </tr>\n",
       "    <tr>\n",
       "      <th>4</th>\n",
       "      <td>Singh M.K., Pandey G., Ramachandra Rao K.</td>\n",
       "      <td>57205283841;56482819900;55549024500;</td>\n",
       "      <td>Optimization of work zone segments on urban ro...</td>\n",
       "      <td>2019</td>\n",
       "      <td>Periodica Polytechnica Transportation Engineering</td>\n",
       "      <td>47</td>\n",
       "      <td>1</td>\n",
       "      <td>NaN</td>\n",
       "      <td>29.0</td>\n",
       "      <td>35.0</td>\n",
       "      <td>...</td>\n",
       "      <td>NaN</td>\n",
       "      <td>10.3311/PPtr.9992</td>\n",
       "      <td>https://www.scopus.com/inward/record.uri?eid=2...</td>\n",
       "      <td>Increased delays and reduced speeds in work zo...</td>\n",
       "      <td>Calibration; Cellular automata; Delay; Heterog...</td>\n",
       "      <td>Article</td>\n",
       "      <td>Final</td>\n",
       "      <td>Open Access</td>\n",
       "      <td>Scopus</td>\n",
       "      <td>2-s2.0-85059378072</td>\n",
       "    </tr>\n",
       "  </tbody>\n",
       "</table>\n",
       "<p>5 rows × 21 columns</p>\n",
       "</div>"
      ],
      "text/plain": [
       "                                      Авторы  \\\n",
       "0                         Chow A.H.F., Li S.   \n",
       "1       Ortigosa J., Gayah V.V., Menendez M.   \n",
       "2            Sau J., Monteil J., Bouroche M.   \n",
       "3               Wandelt S., Sun X., Zhang J.   \n",
       "4  Singh M.K., Pandey G., Ramachandra Rao K.   \n",
       "\n",
       "               Идентификатор автора(ов)  \\\n",
       "0              36146863600;56719990800;   \n",
       "1   55863721200;16244850200;7102690501;   \n",
       "2  55490778800;56085947000;15134891000;   \n",
       "3  23468068100;55806545400;57188731724;   \n",
       "4  57205283841;56482819900;55549024500;   \n",
       "\n",
       "                                            Название   Год  \\\n",
       "0  Modelling and managing bus service regularity ...  2019   \n",
       "1  Analysis of one-way and two-way street configu...  2019   \n",
       "2  State-space linear stability analysis of plato...  2019   \n",
       "3  Evolution of domestic airport networks: a revi...  2019   \n",
       "4  Optimization of work zone segments on urban ro...  2019   \n",
       "\n",
       "                                  Название источника Том Выпуск  Статья №  \\\n",
       "0                                 Transportmetrica B   7       1      NaN   \n",
       "1                                 Transportmetrica B   7       1      NaN   \n",
       "2                                 Transportmetrica B   7       1      NaN   \n",
       "3                                 Transportmetrica B   7       1      NaN   \n",
       "4  Periodica Polytechnica Transportation Engineering  47       1      NaN   \n",
       "\n",
       "  Страница начала Страница окончания  ...  Цитирования  \\\n",
       "0            82.0              106.0  ...          1.0   \n",
       "1            61.0               81.0  ...          NaN   \n",
       "2            18.0               43.0  ...          NaN   \n",
       "3             1.0               17.0  ...          2.0   \n",
       "4            29.0               35.0  ...          NaN   \n",
       "\n",
       "                             DOI  \\\n",
       "0  10.1080/21680566.2017.1353450   \n",
       "1  10.1080/21680566.2017.1337528   \n",
       "2  10.1080/21680566.2017.1308846   \n",
       "3  10.1080/21680566.2017.1301274   \n",
       "4              10.3311/PPtr.9992   \n",
       "\n",
       "                                              Ссылка  \\\n",
       "0  https://www.scopus.com/inward/record.uri?eid=2...   \n",
       "1  https://www.scopus.com/inward/record.uri?eid=2...   \n",
       "2  https://www.scopus.com/inward/record.uri?eid=2...   \n",
       "3  https://www.scopus.com/inward/record.uri?eid=2...   \n",
       "4  https://www.scopus.com/inward/record.uri?eid=2...   \n",
       "\n",
       "                                    Краткое описание  \\\n",
       "0  This paper presents a multi-modal framework fo...   \n",
       "1  In this paper, we study traffic behavior on th...   \n",
       "2  Platoons of vehicles relying on inter-vehicle ...   \n",
       "3  Previous studies on airport networks are stron...   \n",
       "4  Increased delays and reduced speeds in work zo...   \n",
       "\n",
       "                               Ключевые слова автора Тип документа  \\\n",
       "0  Bus bunching; multi-modal management; transit ...       Article   \n",
       "1  DTA; grid networks; left turns; one-way street...       Article   \n",
       "2  car-following models; cooperative systems; lin...       Article   \n",
       "3  complex network; domestic airport network; Net...       Article   \n",
       "4  Calibration; Cellular automata; Delay; Heterog...       Article   \n",
       "\n",
       "  Стадия публикации  Тип доступа Источник                 EID  \n",
       "0             Final          NaN   Scopus  2-s2.0-85024501234  \n",
       "1             Final          NaN   Scopus  2-s2.0-85021050453  \n",
       "2             Final          NaN   Scopus  2-s2.0-85017096656  \n",
       "3             Final          NaN   Scopus  2-s2.0-85015645443  \n",
       "4             Final  Open Access   Scopus  2-s2.0-85059378072  \n",
       "\n",
       "[5 rows x 21 columns]"
      ]
     },
     "execution_count": 3,
     "metadata": {},
     "output_type": "execute_result"
    }
   ],
   "source": [
    "data.head()"
   ]
  },
  {
   "cell_type": "code",
   "execution_count": 4,
   "metadata": {},
   "outputs": [],
   "source": [
    "stop_words = list(stopwords.words('english'))"
   ]
  },
  {
   "cell_type": "code",
   "execution_count": null,
   "metadata": {},
   "outputs": [],
   "source": []
  },
  {
   "cell_type": "code",
   "execution_count": null,
   "metadata": {},
   "outputs": [],
   "source": []
  },
  {
   "cell_type": "code",
   "execution_count": null,
   "metadata": {},
   "outputs": [],
   "source": []
  },
  {
   "cell_type": "code",
   "execution_count": 5,
   "metadata": {},
   "outputs": [],
   "source": [
    "columns = ['Авторы', 'Название', 'Название источника', 'Ссылка', 'Краткое описание', 'Ключевые слова автора']\n",
    "delete_columns = [column not in columns for column in data.columns]\n",
    "data = data.drop(columns = data.columns[delete_columns])"
   ]
  },
  {
   "cell_type": "code",
   "execution_count": 6,
   "metadata": {},
   "outputs": [
    {
     "data": {
      "text/html": [
       "<div>\n",
       "<style scoped>\n",
       "    .dataframe tbody tr th:only-of-type {\n",
       "        vertical-align: middle;\n",
       "    }\n",
       "\n",
       "    .dataframe tbody tr th {\n",
       "        vertical-align: top;\n",
       "    }\n",
       "\n",
       "    .dataframe thead th {\n",
       "        text-align: right;\n",
       "    }\n",
       "</style>\n",
       "<table border=\"1\" class=\"dataframe\">\n",
       "  <thead>\n",
       "    <tr style=\"text-align: right;\">\n",
       "      <th></th>\n",
       "      <th>Авторы</th>\n",
       "      <th>Название</th>\n",
       "      <th>Название источника</th>\n",
       "      <th>Ссылка</th>\n",
       "      <th>Краткое описание</th>\n",
       "      <th>Ключевые слова автора</th>\n",
       "    </tr>\n",
       "  </thead>\n",
       "  <tbody>\n",
       "    <tr>\n",
       "      <th>0</th>\n",
       "      <td>Chow A.H.F., Li S.</td>\n",
       "      <td>Modelling and managing bus service regularity ...</td>\n",
       "      <td>Transportmetrica B</td>\n",
       "      <td>https://www.scopus.com/inward/record.uri?eid=2...</td>\n",
       "      <td>This paper presents a multi-modal framework fo...</td>\n",
       "      <td>Bus bunching; multi-modal management; transit ...</td>\n",
       "    </tr>\n",
       "    <tr>\n",
       "      <th>1</th>\n",
       "      <td>Ortigosa J., Gayah V.V., Menendez M.</td>\n",
       "      <td>Analysis of one-way and two-way street configu...</td>\n",
       "      <td>Transportmetrica B</td>\n",
       "      <td>https://www.scopus.com/inward/record.uri?eid=2...</td>\n",
       "      <td>In this paper, we study traffic behavior on th...</td>\n",
       "      <td>DTA; grid networks; left turns; one-way street...</td>\n",
       "    </tr>\n",
       "    <tr>\n",
       "      <th>2</th>\n",
       "      <td>Sau J., Monteil J., Bouroche M.</td>\n",
       "      <td>State-space linear stability analysis of plato...</td>\n",
       "      <td>Transportmetrica B</td>\n",
       "      <td>https://www.scopus.com/inward/record.uri?eid=2...</td>\n",
       "      <td>Platoons of vehicles relying on inter-vehicle ...</td>\n",
       "      <td>car-following models; cooperative systems; lin...</td>\n",
       "    </tr>\n",
       "    <tr>\n",
       "      <th>3</th>\n",
       "      <td>Wandelt S., Sun X., Zhang J.</td>\n",
       "      <td>Evolution of domestic airport networks: a revi...</td>\n",
       "      <td>Transportmetrica B</td>\n",
       "      <td>https://www.scopus.com/inward/record.uri?eid=2...</td>\n",
       "      <td>Previous studies on airport networks are stron...</td>\n",
       "      <td>complex network; domestic airport network; Net...</td>\n",
       "    </tr>\n",
       "    <tr>\n",
       "      <th>4</th>\n",
       "      <td>Singh M.K., Pandey G., Ramachandra Rao K.</td>\n",
       "      <td>Optimization of work zone segments on urban ro...</td>\n",
       "      <td>Periodica Polytechnica Transportation Engineering</td>\n",
       "      <td>https://www.scopus.com/inward/record.uri?eid=2...</td>\n",
       "      <td>Increased delays and reduced speeds in work zo...</td>\n",
       "      <td>Calibration; Cellular automata; Delay; Heterog...</td>\n",
       "    </tr>\n",
       "  </tbody>\n",
       "</table>\n",
       "</div>"
      ],
      "text/plain": [
       "                                      Авторы  \\\n",
       "0                         Chow A.H.F., Li S.   \n",
       "1       Ortigosa J., Gayah V.V., Menendez M.   \n",
       "2            Sau J., Monteil J., Bouroche M.   \n",
       "3               Wandelt S., Sun X., Zhang J.   \n",
       "4  Singh M.K., Pandey G., Ramachandra Rao K.   \n",
       "\n",
       "                                            Название  \\\n",
       "0  Modelling and managing bus service regularity ...   \n",
       "1  Analysis of one-way and two-way street configu...   \n",
       "2  State-space linear stability analysis of plato...   \n",
       "3  Evolution of domestic airport networks: a revi...   \n",
       "4  Optimization of work zone segments on urban ro...   \n",
       "\n",
       "                                  Название источника  \\\n",
       "0                                 Transportmetrica B   \n",
       "1                                 Transportmetrica B   \n",
       "2                                 Transportmetrica B   \n",
       "3                                 Transportmetrica B   \n",
       "4  Periodica Polytechnica Transportation Engineering   \n",
       "\n",
       "                                              Ссылка  \\\n",
       "0  https://www.scopus.com/inward/record.uri?eid=2...   \n",
       "1  https://www.scopus.com/inward/record.uri?eid=2...   \n",
       "2  https://www.scopus.com/inward/record.uri?eid=2...   \n",
       "3  https://www.scopus.com/inward/record.uri?eid=2...   \n",
       "4  https://www.scopus.com/inward/record.uri?eid=2...   \n",
       "\n",
       "                                    Краткое описание  \\\n",
       "0  This paper presents a multi-modal framework fo...   \n",
       "1  In this paper, we study traffic behavior on th...   \n",
       "2  Platoons of vehicles relying on inter-vehicle ...   \n",
       "3  Previous studies on airport networks are stron...   \n",
       "4  Increased delays and reduced speeds in work zo...   \n",
       "\n",
       "                               Ключевые слова автора  \n",
       "0  Bus bunching; multi-modal management; transit ...  \n",
       "1  DTA; grid networks; left turns; one-way street...  \n",
       "2  car-following models; cooperative systems; lin...  \n",
       "3  complex network; domestic airport network; Net...  \n",
       "4  Calibration; Cellular automata; Delay; Heterog...  "
      ]
     },
     "execution_count": 6,
     "metadata": {},
     "output_type": "execute_result"
    }
   ],
   "source": [
    "data.head()"
   ]
  },
  {
   "cell_type": "code",
   "execution_count": 7,
   "metadata": {},
   "outputs": [
    {
     "name": "stdout",
     "output_type": "stream",
     "text": [
      "<class 'pandas.core.frame.DataFrame'>\n",
      "RangeIndex: 4324 entries, 0 to 4323\n",
      "Data columns (total 6 columns):\n",
      "Авторы                   4324 non-null object\n",
      "Название                 4324 non-null object\n",
      "Название источника       4324 non-null object\n",
      "Ссылка                   4324 non-null object\n",
      "Краткое описание         4324 non-null object\n",
      "Ключевые слова автора    2080 non-null object\n",
      "dtypes: object(6)\n",
      "memory usage: 202.8+ KB\n"
     ]
    }
   ],
   "source": [
    "data.info()"
   ]
  },
  {
   "cell_type": "code",
   "execution_count": 8,
   "metadata": {},
   "outputs": [],
   "source": [
    "data = data.fillna(\" \")"
   ]
  },
  {
   "cell_type": "code",
   "execution_count": 9,
   "metadata": {},
   "outputs": [
    {
     "data": {
      "text/plain": [
       "'This paper presents a multi-modal framework for modelling and analysing different headway control strategies for improving bus service regularity. The interaction between buses and their surrounding traffic is captured in a multi-modal system through a Hamilton–Jacobi formulation of kinematic wave model. This paper further presents a set of signal-based strategies which regulate bus headway through adjusting signal timing plans. The results reveal that the capability of regulating bus headway disturbances through utilising traffic signals is important for maximising bus service regularity and coordinating the bus dynamics with surrounding traffic. This study generates new insights on managing bus reliability and multi-modal traffic in busy urban networks. © 2019, © 2019 Hong Kong Society for Transportation Studies Limited.'"
      ]
     },
     "execution_count": 9,
     "metadata": {},
     "output_type": "execute_result"
    }
   ],
   "source": [
    "data.head()['Краткое описание'][0]"
   ]
  },
  {
   "cell_type": "code",
   "execution_count": null,
   "metadata": {},
   "outputs": [],
   "source": []
  },
  {
   "cell_type": "code",
   "execution_count": 10,
   "metadata": {},
   "outputs": [],
   "source": [
    "from gensim.summarization import summarize"
   ]
  },
  {
   "cell_type": "code",
   "execution_count": 11,
   "metadata": {},
   "outputs": [],
   "source": [
    "@lru_cache(maxsize=100000)\n",
    "def get_normal_form (i):\n",
    "    return porter.stem(i.lower())\n",
    "\n",
    "def normalize_text(text):\n",
    "    #text =summarize(text)\n",
    "    text = text[:text.find('©')]\n",
    "    tokens = word_tokenize(text)\n",
    "    text = [word for word in tokens if word.isalpha()]\n",
    "    normalized = [get_normal_form(word) for word in text]\n",
    "    return ' '.join([word for word in normalized if word not in stop_words])\n",
    "\n",
    "def normalize_description(text):\n",
    "    try:\n",
    "        text = summarize(text, ratio=0.5)\n",
    "    except ValueError:\n",
    "        pass\n",
    "    return normalize_text(text)\n",
    "\n",
    "def normalize_keys(text):\n",
    "    words = []\n",
    "    for word in text.split(';'):\n",
    "        words.append((word.lower()).replace(' ', ''))\n",
    "    return ' '.join([word for word in words])"
   ]
  },
  {
   "cell_type": "code",
   "execution_count": 12,
   "metadata": {},
   "outputs": [],
   "source": [
    "data['Title'] = data['Название'].apply(lambda x: normalize_text(x))\n",
    "data['Description'] = data['Краткое описание'].apply(lambda x: normalize_description(x))\n",
    "data['Key words'] = data['Ключевые слова автора'].apply(lambda x: normalize_keys(x))"
   ]
  },
  {
   "cell_type": "code",
   "execution_count": null,
   "metadata": {},
   "outputs": [],
   "source": []
  },
  {
   "cell_type": "code",
   "execution_count": null,
   "metadata": {},
   "outputs": [],
   "source": []
  },
  {
   "cell_type": "code",
   "execution_count": 13,
   "metadata": {},
   "outputs": [],
   "source": [
    "sentences = (data['Title'] + ' ' + data['Description'] + data['Key words']).str.split()\n",
    "keys = (data['Key words']).str.split()"
   ]
  },
  {
   "cell_type": "code",
   "execution_count": 14,
   "metadata": {},
   "outputs": [],
   "source": [
    "key_words = []\n",
    "for listik in keys.values:\n",
    "    for word in listik:\n",
    "        if word not in key_words:\n",
    "            key_words.append(word)"
   ]
  },
  {
   "cell_type": "code",
   "execution_count": 15,
   "metadata": {},
   "outputs": [],
   "source": [
    "model = Word2Vec(sentences, size=100, workers=2, iter=14)\n",
    "model.save('./w2v_products1.w2v_gensim')"
   ]
  },
  {
   "cell_type": "code",
   "execution_count": 16,
   "metadata": {},
   "outputs": [
    {
     "name": "stderr",
     "output_type": "stream",
     "text": [
      "C:\\ProgramData\\Anaconda3\\lib\\site-packages\\ipykernel_launcher.py:1: DeprecationWarning: Call to deprecated `__getitem__` (Method will be removed in 4.0.0, use self.wv.__getitem__() instead).\n",
      "  \"\"\"Entry point for launching an IPython kernel.\n",
      "C:\\ProgramData\\Anaconda3\\lib\\site-packages\\ipykernel_launcher.py:1: DeprecationWarning: Call to deprecated `similar_by_vector` (Method will be removed in 4.0.0, use self.wv.similar_by_vector() instead).\n",
      "  \"\"\"Entry point for launching an IPython kernel.\n"
     ]
    },
    {
     "data": {
      "text/plain": [
       "[('decreas', 1.0),\n",
       " ('increas', 0.9257568120956421),\n",
       " ('elev', 0.8702961802482605),\n",
       " ('greater', 0.8368594646453857),\n",
       " ('cycl', 0.8352645039558411),\n",
       " ('warm', 0.8312910199165344),\n",
       " ('permafrost', 0.8303860425949097),\n",
       " ('concentr', 0.8247277140617371),\n",
       " ('braze', 0.8241923451423645),\n",
       " ('significantli', 0.8180956840515137)]"
      ]
     },
     "execution_count": 16,
     "metadata": {},
     "output_type": "execute_result"
    }
   ],
   "source": [
    "model.similar_by_vector(model['decreas'])"
   ]
  },
  {
   "cell_type": "code",
   "execution_count": 17,
   "metadata": {},
   "outputs": [
    {
     "name": "stderr",
     "output_type": "stream",
     "text": [
      "C:\\ProgramData\\Anaconda3\\lib\\site-packages\\ipykernel_launcher.py:1: DeprecationWarning: Call to deprecated `__getitem__` (Method will be removed in 4.0.0, use self.wv.__getitem__() instead).\n",
      "  \"\"\"Entry point for launching an IPython kernel.\n",
      "C:\\ProgramData\\Anaconda3\\lib\\site-packages\\ipykernel_launcher.py:1: DeprecationWarning: Call to deprecated `similar_by_vector` (Method will be removed in 4.0.0, use self.wv.similar_by_vector() instead).\n",
      "  \"\"\"Entry point for launching an IPython kernel.\n"
     ]
    },
    {
     "data": {
      "text/plain": [
       "[('decreas', 1.0),\n",
       " ('increas', 0.9257568120956421),\n",
       " ('elev', 0.8702961802482605),\n",
       " ('greater', 0.8368594646453857),\n",
       " ('cycl', 0.8352645039558411),\n",
       " ('warm', 0.8312910199165344),\n",
       " ('permafrost', 0.8303860425949097),\n",
       " ('concentr', 0.8247277140617371),\n",
       " ('braze', 0.8241923451423645),\n",
       " ('significantli', 0.8180956840515137)]"
      ]
     },
     "execution_count": 17,
     "metadata": {},
     "output_type": "execute_result"
    }
   ],
   "source": [
    "model.similar_by_vector(model['decreas'])"
   ]
  },
  {
   "cell_type": "code",
   "execution_count": 18,
   "metadata": {},
   "outputs": [
    {
     "name": "stderr",
     "output_type": "stream",
     "text": [
      "C:\\ProgramData\\Anaconda3\\lib\\site-packages\\ipykernel_launcher.py:1: DeprecationWarning: Call to deprecated `__getitem__` (Method will be removed in 4.0.0, use self.wv.__getitem__() instead).\n",
      "  \"\"\"Entry point for launching an IPython kernel.\n",
      "C:\\ProgramData\\Anaconda3\\lib\\site-packages\\ipykernel_launcher.py:1: DeprecationWarning: Call to deprecated `similar_by_vector` (Method will be removed in 4.0.0, use self.wv.similar_by_vector() instead).\n",
      "  \"\"\"Entry point for launching an IPython kernel.\n"
     ]
    },
    {
     "data": {
      "text/plain": [
       "[('equat', 1.0000001192092896),\n",
       " ('pde', 0.9223195910453796),\n",
       " ('equatio', 0.9091947674751282),\n",
       " ('vri', 0.906840443611145),\n",
       " ('nonlinear', 0.899742066860199),\n",
       " ('ordinari', 0.8970274925231934),\n",
       " ('exactsolution', 0.8936541676521301),\n",
       " ('painlevé', 0.8907214403152466),\n",
       " ('travel', 0.8893516659736633),\n",
       " ('calculu', 0.8882980346679688)]"
      ]
     },
     "execution_count": 18,
     "metadata": {},
     "output_type": "execute_result"
    }
   ],
   "source": [
    "model.similar_by_vector(model['equat'])"
   ]
  },
  {
   "cell_type": "code",
   "execution_count": null,
   "metadata": {},
   "outputs": [],
   "source": []
  },
  {
   "cell_type": "code",
   "execution_count": null,
   "metadata": {},
   "outputs": [],
   "source": []
  },
  {
   "cell_type": "code",
   "execution_count": 19,
   "metadata": {},
   "outputs": [
    {
     "data": {
      "text/plain": [
       "TfidfVectorizer(analyzer='word', binary=False, decode_error='strict',\n",
       "        dtype=<class 'numpy.float64'>, encoding='utf-8', input='content',\n",
       "        lowercase=True, max_df=1.0, max_features=None, min_df=1,\n",
       "        ngram_range=(1, 1), norm='l2', preprocessor=None, smooth_idf=True,\n",
       "        stop_words=None, strip_accents=None, sublinear_tf=False,\n",
       "        token_pattern='(?u)\\\\b\\\\w\\\\w+\\\\b', tokenizer=None, use_idf=True,\n",
       "        vocabulary=None)"
      ]
     },
     "execution_count": 19,
     "metadata": {},
     "output_type": "execute_result"
    }
   ],
   "source": [
    "from sklearn.feature_extraction.text import TfidfVectorizer\n",
    "\n",
    "titles_ = (data['Title'] + ' ' + data['Description'] + ' ' +  data['Key words']).values\n",
    "#titles_ = (data['Key words']).values\n",
    "\n",
    "tfidf = TfidfVectorizer(ngram_range=(1,1))\n",
    "tfidf.fit(titles_)"
   ]
  },
  {
   "cell_type": "code",
   "execution_count": null,
   "metadata": {},
   "outputs": [],
   "source": []
  },
  {
   "cell_type": "code",
   "execution_count": null,
   "metadata": {},
   "outputs": [],
   "source": []
  },
  {
   "cell_type": "code",
   "execution_count": 20,
   "metadata": {},
   "outputs": [],
   "source": [
    "tf_idf_vocab = {}\n",
    "for i in model.wv.vocab.keys():\n",
    "    if i in tfidf.vocabulary_:\n",
    "        if i in key_words:\n",
    "            tf_idf_vocab[i] = tfidf.idf_[tfidf.vocabulary_[i]] * 24\n",
    "        else:  \n",
    "            tf_idf_vocab[i] = tfidf.idf_[tfidf.vocabulary_[i]]"
   ]
  },
  {
   "cell_type": "code",
   "execution_count": null,
   "metadata": {},
   "outputs": [],
   "source": []
  },
  {
   "cell_type": "code",
   "execution_count": null,
   "metadata": {},
   "outputs": [],
   "source": []
  },
  {
   "cell_type": "markdown",
   "metadata": {},
   "source": [
    "tf_idf_vocab = {}\n",
    "for i in model.wv.vocab.keys():\n",
    "    if i in tfidf.vocabulary_:\n",
    "        tf_idf_vec = tfidf.transform([i])\n",
    "        tf_idf_vocab[i] = tf_idf_vec[:, tfidf.vocabulary_[i]].toarray().flatten()[0]"
   ]
  },
  {
   "cell_type": "code",
   "execution_count": 21,
   "metadata": {},
   "outputs": [
    {
     "name": "stderr",
     "output_type": "stream",
     "text": [
      "  0%|                                                                                         | 0/4324 [00:00<?, ?it/s]C:\\ProgramData\\Anaconda3\\lib\\site-packages\\ipykernel_launcher.py:10: DeprecationWarning: Call to deprecated `__contains__` (Method will be removed in 4.0.0, use self.wv.__contains__() instead).\n",
      "  # Remove the CWD from sys.path while we load stuff.\n",
      "C:\\ProgramData\\Anaconda3\\lib\\site-packages\\ipykernel_launcher.py:11: DeprecationWarning: Call to deprecated `__getitem__` (Method will be removed in 4.0.0, use self.wv.__getitem__() instead).\n",
      "  # This is added back by InteractiveShellApp.init_path()\n",
      "100%|█████████████████████████████████████████████████████████████████████████████| 4324/4324 [00:05<00:00, 745.46it/s]\n"
     ]
    }
   ],
   "source": [
    "import tqdm\n",
    "data_storage = {i[0]:i[1]['Title']+ ' ' + i[1]['Description']  + ' ' +  i[1][\n",
    "        'Key words'] for i in data.iterrows()}\n",
    "#data_storage = {i[0]:i[1]['Ключевые слова автора'] for i in data.iterrows()}\n",
    "data_storage_norm = {}\n",
    "for i in tqdm.tqdm(data_storage):\n",
    "    text = data_storage[i]\n",
    "    vec = np.zeros(100)\n",
    "    for word in text.split(' '):\n",
    "        if word in model and word in tf_idf_vocab:\n",
    "            vec+=model[word] * tf_idf_vocab[word]\n",
    "\n",
    "    data_storage_norm[i] = vec"
   ]
  },
  {
   "cell_type": "code",
   "execution_count": 22,
   "metadata": {},
   "outputs": [
    {
     "name": "stdout",
     "output_type": "stream",
     "text": [
      "Build annoy base\n",
      "computed for 1\n",
      "builded\n"
     ]
    }
   ],
   "source": [
    "from annoy import AnnoyIndex\n",
    "\n",
    "NUM_TREES = 15\n",
    "VEC_SIZE_EMB = 100\n",
    "\n",
    "counter = 0\n",
    "map_id_2_prod_hash = {}\n",
    "index_title_emb = AnnoyIndex(VEC_SIZE_EMB)\n",
    "\n",
    "print(\"Build annoy base\")\n",
    "for prod_hash in data_storage_norm:\n",
    "    title_vec = data_storage_norm[prod_hash] # Вытаскиваем вектор\n",
    "    \n",
    "    index_title_emb.add_item(counter, title_vec) # Кладем в анной\n",
    "    \n",
    "    map_id_2_prod_hash[counter] = prod_hash # сохраняем мапу - (id в анное -> продукт_id)\n",
    "    \n",
    "    counter += 1\n",
    "    if counter % 10000 == 1:\n",
    "        print(\"computed for %d\" % counter)\n",
    "        \n",
    "index_title_emb.build(NUM_TREES)\n",
    "print(\"builded\")"
   ]
  },
  {
   "cell_type": "code",
   "execution_count": 23,
   "metadata": {},
   "outputs": [],
   "source": [
    "index_title_emb.save('./annoy_checkbox')\n",
    "pkl.dump(map_id_2_prod_hash, open('map_id_to_hash_products_checkbox.dict', 'wb'))"
   ]
  },
  {
   "cell_type": "code",
   "execution_count": 24,
   "metadata": {},
   "outputs": [],
   "source": [
    "pd.DataFrame(data_storage_norm).to_csv(\n",
    "        'data_storage_norm_checkbox.csv', index=None)"
   ]
  },
  {
   "cell_type": "code",
   "execution_count": 30,
   "metadata": {
    "scrolled": true
   },
   "outputs": [],
   "source": [
    "data_storage_norm = pd.read_csv('data_storage_norm_checkbox.csv')"
   ]
  },
  {
   "cell_type": "code",
   "execution_count": 31,
   "metadata": {},
   "outputs": [
    {
     "name": "stdout",
     "output_type": "stream",
     "text": [
      "Запрос painlevé analysi exact solut equat descript nonlinear wave painlevé test appli investig integr equat show equat integr exact solut equat exist analyt solut equat found exactsolution kuramoto-sivashinskyequation logisticfunction nonlineardifferentialequation nonlinearwave painlevéproperty painlevétest\n",
      "\n",
      "\n",
      "Соседи:\n",
      "Painlevé analysis and exact solutions of the fourth-order equation for description of nonlinear waves\n",
      "The fourth-order equation for description of nonlinear waves is considered. A few variants of this equation are studied. Painlevé test is applied to investigate integrability of these equations. We show that all these equations are not integrable, but some exact solutions of these equations exist. Analytic solutions in closed-form of the equations are found. © 2015 Elsevier B.V. 1.0\n",
      "Exact solution; Kuramoto-Sivashinsky equation; Logistic function; Nonlinear differential equation; Nonlinear wave; Painlevé property; Painlevé test\n",
      "_______________________________________\n",
      "Painlevé analysis and exact solutions of the Korteweg-de Vries equation with a source\n",
      "We consider the Korteweg-de Vries equation with a source. The source depends on the solution as polynomials with constant coefficients. Using the Painlevé test we show that the generalized Korteweg-de Vries equation is not integrable by the inverse scattering transform. However there are some exact solutions of the generalized Korteweg-de Vries equation for two forms of the source. We present these exact solutions. © 2014 Elsevier Ltd. All rights reserved. 0.9981473417770528\n",
      "Exact solution; Korteweg-de Vries equation; Logistic function; Painlevé property; Painlevé test\n",
      "_______________________________________\n",
      "Exact solitary waves of the Fisher equation\n",
      "New method is presented to search exact solutions of nonlinear differential equations. This approach is used to look for exact solutions of the Fisher equation. New exact solitary waves of the Fisher equation are given. © 2005 Elsevier B.V. All rights reserved. 0.9969092338606156\n",
      "Exact solution; Nonlinear differential equation; Simplest equation method; Traveling wave\n",
      "_______________________________________\n",
      "On wave structures described by the generalized Kuramoto-Sivashinsky equation\n",
      "The generalized Kuramoto-Sivashinsky equation is considered. The Painlevé test is applied for studying this equation. It is shown that the generalized Kuramoto-Sivashinsky equation does not pass the Painlevé test but has the expansion of the general solution in the Laurent series. As consequence the equation can have some exact solutions at additional conditions on the parameters of equation. Solitary wave and elliptic solutions of the generalized Kuramoto-Sivashinsky equation are found by means of expansion for solution in the Laurent series. It is shown that solutions obtained describe some structures in the medium with the dissipation and instability. © 2015 Elsevier Ltd. 0.9968698192317145\n",
      "Elliptic solution; Exact solution; Kuramoto-Sivashinsky equation; Painlevé property; Painlevé test\n",
      "_______________________________________\n",
      "On solutions of generalized modified Korteweg-de Vries equation of the fifth order with dissipation\n",
      "The generalized modified Korteweg-de Vries equation of the fifth order with dissipation is considered. The Painlevé test is applied for studying integrability of this equation. It is shown that the generalized modified Korteweg-de Vries equation of the fifth order does not pass the Painlevé test in the general case but has the expansion of the solution in the Laurent series. As a consequence the equation can have some exact solutions at additional conditions on the parameters of the equation. We present the effective modification of methods for finding of solitary wave and elliptic solutions of nonlinear differential equations. Solitary wave and elliptic solutions of the generalized modified Korteweg-de Vries equation of the fifth order are found by means of expansion for solution in the Laurent series. These solutions can be used for description of nonlinear waves in the medium with dissipation, dispersion. © 2016 Elsevier Inc. All rights reserved. 0.9968485148288853\n",
      "Elliptic solution; Exact solution; Korteweg-de Vries equation of the fifth order; Painlevé property; Painlevé test\n",
      "_______________________________________\n",
      "On \"new travelling wave solutions\" of the KdV and the KdV-Burgers equations\n",
      "The Korteweg-de Vries and the Korteweg-de Vries-Burgers equations are considered. Using the travelling wave the general solutions of these equations are presented. \"New travelling wave solutions\" of the KdV and the KdV-Burgers equations by Wazzan [Wazzan L. Commun Nonlinear Sci Numer Simulat 2009;14:443-50] are analyzed. We demonstrate that all his solutions are not new and are transformed to known solutions. © 2008 Elsevier B.V. All rights reserved. 0.9966160518627856\n",
      "Exact solution; General solution; Korteweg-de Vries equation; Korteweg-de Vries-Burgers equation; Nonlinear evolution equation; Travelling wave\n",
      "_______________________________________\n",
      "Traveling wave solutions of the generalized nonlinear evolution equations\n",
      "Solitary wave solutions for a family of nonlinear evolution equations with an arbitrary parameter in the exponents are constructed. Some of the obtained solutions seem to be new. © 2008 Elsevier Inc. All rights reserved. 0.9965976331936668\n",
      "Nonlinear evolution equation; Simplest equation; Solitary wave solution; Traveling wave\n",
      "_______________________________________\n",
      "From the Fermi-Pasta-Ulam Model to Higher-Order Nonlinear Evolution Equations\n",
      "We consider generalizations of the Korteweg-de Vries equation of the fifth and seventh order obtained from the Fermi-Pasta-Ulam problem. Analytical properties of the equation are investigated taking into account the Painlevé test. It is shown that the equations of the fifth and seventh order do not have the Painlevé property. We demonstrate that there are expansions of the solution in the Laurent series and as a consequence we can find exact solutions of the equations. Solitary wave and elliptic solutions of the fifth and seventh order equations are presented. © 2016 Polish Scientific Publishers. 0.9957953866926945\n",
      "Elliptic solution; Exact solution; Fermi-Pasta-Ulam model; Korteweg-de Vries equation; Painlevé property; Painlevé test\n",
      "_______________________________________\n",
      "Nonlinear differential equations of the second, third and fourth order with exact solutions\n",
      "We present the class of nonlinear ordinary differential equations of the second, third and fourth order in a polynomial form with exact solutions. This class has exact solutions in the form of solitary waves, kinks and one periodic solutions. © 2012 Elsevier Inc. All rights reserved. 0.9956839691672594\n",
      "Autonomous equation; Exact solution; Nonlinear differential equation; Polynomial form; Solitary wave\n",
      "_______________________________________\n",
      "Exact Solutions and Integrability of the Duffing – Van der Pol Equation\n",
      "The force-free Duffing–Van der Pol oscillator is considered. The truncated expansions for finding the solutions are used to look for exact solutions of this nonlinear ordinary differential equation. Conditions on parameter values of the equation are found to have the linearization of the Duffing–Van der Pol equation. The Painlevé test for this equation is used to study the integrability of the model. Exact solutions of this differential equation are found. In the special case the approach is simplified to demonstrate that some well-known methods can be used for finding exact solutions of nonlinear differential equations. The first integral of the Duffing–Van der Pol equation is found and the general solution of the equation is given in the special case for parameters of the equation. We also demonstrate the efficiency of the method for finding the first integral and the general solution for one of nonlinear second-order ordinary differential equations. © 2018, Pleiades Publishing, Ltd. 0.9953504662623782\n",
      "34M25; Duffing–Van der Pol oscillator; exact solution; general solution; Painlevé test; singular manifold; truncated expansion\n",
      "_______________________________________\n",
      "First integrals and solutions of the traveling wave reduction for the Triki–Biswas equation\n"
     ]
    },
    {
     "name": "stdout",
     "output_type": "stream",
     "text": [
      "The integrability of the traveling wave reduction for the Triki–Biswas equation is considered. Two first integrals for this equation are found. It is shown that the Triki–Biswas equation is transformed to the nonlinear ordinary differential equation of the first order. The general solution of the traveling wave reduction for the Triki–Biswas equation is written using the quadrature. The general solution of the traveling wave reduction for the Kaup–Newell equation is given. Special solutions of the Triki–Biswas equation are presented. © 2019 Elsevier GmbH 0.9952323829049259\n",
      "Exact solution; General solution; Integrability; Traveling wave; Triki–Biswas equation\n",
      "_______________________________________\n",
      "A note on New Exact solutions for the Kawahara equation using Exp-function method\n",
      "Exact solutions of the Kawahara equation by Assas [L.M.B. Assas, New Exact solutions for the Kawahara equation using Exp-function method, J. Comput. Appl. Math. 233 (2009) 97102] are analyzed. It is shown that all solutions do not satisfy the Kawahara equation and consequently all nontrivial solutions by Assas are wrong. © 2010 Elsevier B.V. All rights reserved. 0.9951400293113347\n",
      "Exact solution; Exp-function method; Kawahara equation; Nonlinear evolution equation\n",
      "_______________________________________\n",
      "A note on solutions of the generalized Fisher equation\n",
      "The generalized Fisher equation is considered. Possible exact solutions of this equation are found by Q-function method. The velocities of traveling waves are determined and analyzed. © 2014 Elsevier B.V. All rights reserved. 0.9950286538468991\n",
      "Exact solution; Fisher equation; Nonlinear differential equation; ODE; Q-function method\n",
      "_______________________________________\n"
     ]
    }
   ],
   "source": [
    "\n",
    "\n",
    "title_id = list(data_storage_norm.keys())[np.random.randint(2000)]\n",
    "title_id = 2094\n",
    "print('Запрос', data_storage[title_id])\n",
    "\n",
    "annoy_res = list(index_title_emb.get_nns_by_vector(data_storage_norm.iloc[:,title_id], 13, include_distances=True))\n",
    "\n",
    "print('\\n\\nСоседи:')\n",
    "\n",
    "for annoy_id, annoy_sim in itertools.islice(zip(*annoy_res), 13):\n",
    "    image_id = map_id_2_prod_hash[annoy_id]\n",
    "    print('Название: ' + data.iloc[image_id]['Название'] +'\\n' +  data.iloc[image_id]['Краткое описание'], 1 - annoy_sim ** 2 / 2)\n",
    "    print('Ключевые слова: ' + data.iloc[image_id]['Ключевые слова автора'])\n",
    "    print('___' * 13)"
   ]
  },
  {
   "cell_type": "code",
   "execution_count": 27,
   "metadata": {},
   "outputs": [],
   "source": [
    "filename_key_words = '_checkbox'\n",
    "map_id_2_prod_hash = pkl.load(\n",
    "            open('map_id_to_hash_products' + filename_key_words + '.dict',\n",
    "                 'rb'))\n",
    "\n",
    "index_title_emb = AnnoyIndex(100)\n",
    "index_title_emb.load('./annoy' + filename_key_words)\n",
    "model = Word2Vec.load(\n",
    "    './w2v_products.w2v_gensim')"
   ]
  },
  {
   "cell_type": "code",
   "execution_count": 28,
   "metadata": {},
   "outputs": [],
   "source": [
    "\n",
    "\n",
    "vec = np.zeros(100)\n",
    "for i in listik:\n",
    "    part_of_vec = None\n",
    "    try:\n",
    "        part_of_vec = model[i]\n",
    "    except KeyError:\n",
    "        pass\n",
    "    if part_of_vec is not None:\n",
    "        vec += part_of_vec\n",
    "\n",
    "annoy_res = list(\n",
    "    index_title_emb.get_nns_by_vector(vec, 13, include_distances=True))"
   ]
  },
  {
   "cell_type": "code",
   "execution_count": 29,
   "metadata": {},
   "outputs": [
    {
     "name": "stdout",
     "output_type": "stream",
     "text": [
      "\n",
      "\n",
      "Соседи:\n",
      "Existence results for a fraction hybrid differential inclusion with Caputo–Hadamard type fractional derivativeIn this manuscript, we talk over the existence of solutions of a class of hybrid Caputo–Hadamard fractional differential inclusions with Dirichlet boundary conditions. Our results are based on the Arzelá–Ascoli theorem and some suitable theorems of fixed point theory. As well, to illustrate our results, we confront the exceptional case of the fractional differential inclusions with examples. © 2019, The Author(s). 3.422854177870249e-08\n",
      "Caputo–Hadamard fractional derivative; Fractional differential inclusion; Hybrid boundary value problem\n",
      "_______________________________________\n",
      "Multiple radial solutions for Dirichlet problem involving two mean curvature equations in Euclidean and Minkowski spacesIn this paper, we establish the existence of multiple positive radial solutions for the Dirichlet problem involving two mean curvature equations of spacelike graphs in Euclidean and Minkowski spaces. © 2019, The Author(s). 3.422854177870249e-08\n",
      "Dirichlet problem; Leggett–Williams’ fixed point theorem; Mean curvature equation; Multiple radial solution\n",
      "_______________________________________\n",
      "Solvability for fully cantilever beam equations with superlinear nonlinearitiesThis paper deals with the existence of solution for the fully fourth-order boundary value problem {u(4)(x)=f(x,u(x),u′(x),u″(1),u‴(x)),x∈[0,1],u(0)=u′(0)=u″(1)=u‴(1)=0, which models a statically elastic beam fixed at the left and freed at the right, and it is called cantilever beam in mechanics, where f: [ 0 , 1 ] × R 4 → R is continuous. Some inequality conditions on f guaranteeing the existence and uniqueness of solutions are presented. The inequality conditions allow f(x, y, y 1 , y 2 , y 3 ) to grow superlinearly on y, y 1 , y 2 , and y 3 . © 2019, The Author(s). 3.422854177870249e-08\n",
      "Cantilever beam equation; Existence and uniqueness; Leray–Schauder fixed point theorem; Upperlinear growth\n",
      "_______________________________________\n",
      "Optimal decay result for Kirchhoff plate equations with nonlinear damping and very general type of relaxation functionsIn this paper, we consider plate equations with viscoelastic damping localized on a part of the boundary and nonlinear damping in the domain. We establish general and optimal decay rate results for a wider class of relaxation functions. These results are obtained without imposing any restrictive growth assumption on the frictional damping term. Our results are more general than the earlier results. © 2019, The Author(s). 3.422854177870249e-08\n",
      "Convexity; Optimal decay; Plate equations; Viscoelastic\n",
      "_______________________________________\n",
      "Uncertain fractional forward difference equations for Riemann–Liouville typeTo model complex systems with discrete-time features and memory effects in the uncertain environment, a definition of an uncertain fractional forward difference equation with Riemann–Liouville-like forward difference is introduced. Moreover, analytic solutions to a type of special linear uncertain fractional difference equations are presented by the Picard iteration method. Then, an existence and uniqueness theorem of the solutions is proved by applying Banach contraction mapping theorem. Finally, two examples are provided to illustrate the validity of the existence and uniqueness theorem. © 2019, The Author(s). 3.422854177870249e-08\n",
      "Discrete fractional calculus; Fractional forward difference equations; Uncertainty theory\n",
      "_______________________________________\n",
      "On a three step crisis integro-differential equationOne of the interesting fractional integro-differential equations is the three step crisis equation which has been reviewed recently. In this paper, we investigate the existence of solutions for a three step crisis fractional integro-differential equation under some boundary conditions. © 2019, The Author(s). 3.422854177870249e-08\n",
      "Caputo derivation; Pointwise defined equation; Singularity; Three steps crisis equation\n",
      "_______________________________________\n",
      "Solvability of a one-parameter class of nonlinear second-order difference equations by invariantsBy using an invariant we show in an original and quite unexpected way that a one-parameter class of nonlinear second-order difference equations is solvable in closed form, improving and theoretically explaining a recent result in the literature. As a motivation for this and also for general use of invariants for difference equations in solvability, we also demonstrate an application of the method of invariants on a very basic example of linear first-order difference equation with constant coefficients explaining a frequently confused detail. We also give a general hint how the method can be applied for the case of difference equations of any order. © 2019, The Author(s). 3.422854177870249e-08\n",
      "Invariant; Nonlinear difference equation; Solvable equation\n",
      "_______________________________________\n",
      "On a family of inverse curvature flows for closed convex plane curvesIn this note we introduce a family of flows for closed convex curves in the plane. Along the flows the enclosed area of the curve is increasing, and the curve remains convex and converges to a circle. The flows include various flows studied by various authors as special cases. © 2019 Elsevier Ltd 3.422854177870249e-08\n",
      "Convex curves; Curve shortening flow; Isoperimetric inequality\n",
      "_______________________________________\n",
      "Existence and Ulam–Hyers stability for Caputo conformable differential equations with four-point integral conditionsIn this article, we investigate the existence and uniqueness of solutions for conformable derivatives in the Caputo setting with four-point integral conditions, applying standard fixed point theorems such as Banach contraction mapping principle, Krasnoselskii’s fixed point theorem, and Leray–Schauder nonlinear alternative. Further, we present Ulam–Hyers stability results by using direct analysis methods. Different types of Ulam stability, such as Ulam–Hyers stability, generalized Ulam–Hyers stability, Ulam–Hyers–Rassias stability, and generalized Ulam–Hyers–Rassias stability, are studied. Examples which support our theoretical results are also presented. © 2019, The Author(s). 3.422854177870249e-08\n",
      "Conformable derivatives; Conformable integrals; Existence and uniqueness; Fixed point theorem; Fractional differential equations; Ulam–Hyers stability\n",
      "_______________________________________\n",
      "The construction of solutions to Zakharov–Kuznetsov equation with fractional power nonlinear termsIn the paper, we study a plasma fluid physical model, namely the Zakharov–Kuznetsov (ZK, for simplicity) equation with fractional power nonlinear terms by the complete discrimination system for polynomial method, and give a detailed construction of all its single traveling wave solutions. The results show abundant traveling wave patterns of the ZK equation. © 2019, The Author(s). 3.422854177870249e-08\n",
      "Exact solution; The complete discrimination system for polynomial; Traveling wave solution; Zakharov–Kuznetsov equation\n",
      "_______________________________________\n",
      "Existence and uniqueness of the global solution for a class of nonlinear fractional integro-differential equations in a Banach spaceIn this paper, by employing fixed point theory, we investigate the existence and uniqueness of solutions for a class of nonlinear fractional integro-differential equations on semi-infinite domains in a Banach space. © 2019, The Author(s). 3.422854177870249e-08\n",
      "Banach space; Infinite interval; Nonlinear fractional integro-differential equations\n",
      "_______________________________________\n",
      "Blow-up of solution for quasilinear viscoelastic wave equation with boundary nonlinear damping and source termsIn this paper, we consider the blow-up result of solution for a quasilinear viscoelastic wave equation with strong damping and boundary nonlinear damping. We prove a finite time blow-up result of solution with positive initial energy as well as nonpositive initial energy under suitable conditions on the initial data and positive function g. © 2019, The Author(s). 3.422854177870249e-08\n",
      "Blow-up; Viscoelasticity; Wave equation\n"
     ]
    },
    {
     "name": "stdout",
     "output_type": "stream",
     "text": [
      "_______________________________________\n",
      "A connection between weighted Hardy’s inequality and half-linear dynamic equationsIn this paper, we give an affirmative answer to the following question: Is the solvability of some nonlinear dynamic equations on a time scale T not only sufficient but in a certain sense also necessary for the validity of some dynamic Hardy-type inequalities with two different weights? In fact, this answer will give a new characterization of the weights in a weighted Hardy-type inequality on time scales. The results contain the results when T= R, T= N, and when T=qN0 as special cases. Some applications are given for illustrations. © 2019, The Author(s). 3.422854177870249e-08\n",
      "Dynamic equations; Hardy’s inequality; Time scales\n",
      "_______________________________________\n"
     ]
    }
   ],
   "source": [
    "print('\\n\\nСоседи:')\n",
    "\n",
    "for annoy_id, annoy_sim in itertools.islice(zip(*annoy_res), 13):\n",
    "    image_id = map_id_2_prod_hash[annoy_id]\n",
    "    print(data.iloc[image_id]['Название'] + data.iloc[image_id]['Краткое описание'], 1 - annoy_sim ** 2 / 2)\n",
    "    print(data.iloc[image_id]['Ключевые слова автора'])\n",
    "    print('___' * 13)"
   ]
  },
  {
   "cell_type": "code",
   "execution_count": null,
   "metadata": {},
   "outputs": [],
   "source": []
  },
  {
   "cell_type": "code",
   "execution_count": null,
   "metadata": {},
   "outputs": [],
   "source": []
  }
 ],
 "metadata": {
  "kernelspec": {
   "display_name": "Python 3",
   "language": "python",
   "name": "python3"
  },
  "language_info": {
   "codemirror_mode": {
    "name": "ipython",
    "version": 3
   },
   "file_extension": ".py",
   "mimetype": "text/x-python",
   "name": "python",
   "nbconvert_exporter": "python",
   "pygments_lexer": "ipython3",
   "version": "3.7.3"
  }
 },
 "nbformat": 4,
 "nbformat_minor": 2
}
